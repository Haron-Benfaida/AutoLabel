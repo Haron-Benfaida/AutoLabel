{
 "cells": [
  {
   "cell_type": "code",
   "metadata": {
    "ExecuteTime": {
     "end_time": "2024-06-27T09:32:51.116145Z",
     "start_time": "2024-06-27T09:32:50.270632Z"
    }
   },
   "source": [
    "import os\n",
    "import pytesseract\n",
    "from PIL import Image\n",
    "from datasets import load_dataset\n",
    "from groq import Groq\n",
    "from dotenv import load_dotenv\n",
    "from utils import Utils\n",
    "\n",
    "load_dotenv()"
   ],
   "outputs": [
    {
     "data": {
      "text/plain": [
       "True"
      ]
     },
     "execution_count": 1,
     "metadata": {},
     "output_type": "execute_result"
    }
   ],
   "execution_count": 1
  },
  {
   "metadata": {
    "ExecuteTime": {
     "end_time": "2024-06-27T09:32:54.993377Z",
     "start_time": "2024-06-27T09:32:51.117190Z"
    }
   },
   "cell_type": "code",
   "source": [
    "dataset = load_dataset(\"ayoub999/dataset_for_orange_factures\")\n",
    "example = dataset['test'][1]['image']\n",
    "\n",
    "ocr_data = pytesseract.image_to_data(example, lang='fra', output_type=pytesseract.Output.DICT)\n",
    "\n",
    "words = ocr_data['text']\n",
    "boxes = [\n",
    "    [\n",
    "        ocr_data['left'][i],\n",
    "        ocr_data['top'][i],\n",
    "        ocr_data['left'][i] + ocr_data['width'][i],\n",
    "        ocr_data['top'][i] + ocr_data['height'][i],\n",
    "    ]\n",
    "    for i in range(len(ocr_data['text']))\n",
    "]"
   ],
   "outputs": [],
   "execution_count": 2
  },
  {
   "metadata": {
    "ExecuteTime": {
     "end_time": "2024-06-27T09:32:56.273616Z",
     "start_time": "2024-06-27T09:32:54.994480Z"
    }
   },
   "cell_type": "code",
   "source": [
    "input_text = str(words) + \"  \" + \"Extraire du texte précédent les informations suivante: Nom de l'entreprise, Date, ICE, Numéro de téléphone, Total à payer. Formatez votre réposne sous ce format : {'Date':'dd/mm/yyyy'; 'ICE' : 'xxxxxx'; 'Total_à_payer : 'xxxxxx'; 'Nom_de_l_entreprise' : 'xxxxxx'; 'Numéro_de_facture' : 'xxxxxx'}. Inclus cela et rien de plus. Note l'utilisation de points virgules au lieu de virgules pour separer les elements\"\n",
    "\n",
    "client = Groq(\n",
    "    api_key=os.getenv(\"GROQ_API_KEY\"),\n",
    ")\n",
    "\n",
    "chat_completion = client.chat.completions.create(\n",
    "    messages=[\n",
    "        {\n",
    "            \"role\": \"user\",\n",
    "            \"content\": input_text,\n",
    "        }\n",
    "    ],\n",
    "    model=\"mixtral-8x7b-32768\",\n",
    ")"
   ],
   "outputs": [],
   "execution_count": 3
  },
  {
   "metadata": {
    "ExecuteTime": {
     "end_time": "2024-06-27T09:32:56.282010Z",
     "start_time": "2024-06-27T09:32:56.275431Z"
    }
   },
   "cell_type": "code",
   "source": [
    "response = chat_completion.choices[0].message.content\n",
    "structured_data = Utils.query_to_dict(response)\n",
    "structured_data"
   ],
   "outputs": [
    {
     "data": {
      "text/plain": [
       "{'Date': '29122022',\n",
       " 'ICE': '001537216000013',\n",
       " 'Total_à_payer': '2900000',\n",
       " 'Nom_de_l_entreprise': 'CUISTOQUIPSARL',\n",
       " 'Numéro_de_facture': 'FA2022-000246'}"
      ]
     },
     "execution_count": 4,
     "metadata": {},
     "output_type": "execute_result"
    }
   ],
   "execution_count": 4
  },
  {
   "metadata": {
    "ExecuteTime": {
     "end_time": "2024-06-27T09:32:56.287062Z",
     "start_time": "2024-06-27T09:32:56.284957Z"
    }
   },
   "cell_type": "code",
   "source": [
    "data2boxes = {}\n",
    "for key in structured_data:\n",
    "    idx = Utils.closest_finder(structured_data[key], words)\n",
    "    data2boxes[key] = boxes[idx]"
   ],
   "outputs": [],
   "execution_count": 4
  }
 ],
 "metadata": {
  "language_info": {
   "name": "python"
  },
  "kernelspec": {
   "name": "python3",
   "language": "python",
   "display_name": "Python 3 (ipykernel)"
  }
 },
 "nbformat": 4,
 "nbformat_minor": 2
}
